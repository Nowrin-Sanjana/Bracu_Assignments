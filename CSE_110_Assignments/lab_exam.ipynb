{
  "nbformat": 4,
  "nbformat_minor": 0,
  "metadata": {
    "colab": {
      "name": "lab exam",
      "provenance": [],
      "collapsed_sections": []
    },
    "kernelspec": {
      "name": "python3",
      "display_name": "Python 3"
    },
    "language_info": {
      "name": "python"
    }
  },
  "cells": [
    {
      "cell_type": "code",
      "execution_count": 11,
      "metadata": {
        "colab": {
          "base_uri": "https://localhost:8080/"
        },
        "id": "uJG6KM65y8QL",
        "outputId": "793eb281-1131-4c88-82b3-ab5ad4e5b975"
      },
      "outputs": [
        {
          "output_type": "stream",
          "name": "stdout",
          "text": [
            "Please enter a sentence:im a student\n",
            "mi a tneduts\n"
          ]
        }
      ],
      "source": [
        "inp=input('Please enter a sentence:')\n",
        "str1=''\n",
        "str2=''\n",
        "for count in range(len(inp)):\n",
        "  if count==len(inp)-1:\n",
        "    str1+=inp[count]\n",
        "    for iter in range(len(str1)-1,-1,-1):\n",
        "      str2+=str1[iter]\n",
        "  elif inp[count]==' ':\n",
        "    for iter in range(len(str1)-1,-1,-1):\n",
        "      str2+=str1[iter]\n",
        "    str2+=' '\n",
        "    str1=''\n",
        "  else: \n",
        "    str1+=inp[count]\n",
        "print(str2)"
      ]
    }
  ]
}