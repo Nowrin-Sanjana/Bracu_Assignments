{
  "nbformat": 4,
  "nbformat_minor": 0,
  "metadata": {
    "colab": {
      "provenance": []
    },
    "kernelspec": {
      "name": "python3",
      "display_name": "Python 3"
    },
    "language_info": {
      "name": "python"
    }
  },
  "cells": [
    {
      "cell_type": "code",
      "execution_count": null,
      "metadata": {
        "id": "0popJki2dsbp"
      },
      "outputs": [],
      "source": [
        "import math\n",
        "def strength_calc(x):\n",
        "    st = math.log2(x+1)+(x/10)\n",
        "    return st"
      ]
    },
    {
      "cell_type": "code",
      "source": [
        "import random\n",
        "def utility_calc(maxV, minV):\n",
        "    i = random.randint(0,1)\n",
        "    rndm = random.randint(1, 10)\n",
        "    util = strength_calc(maxV) - strength_calc(minV) + ((-1)**i)*(rndm/10)\n",
        "    return util"
      ],
      "metadata": {
        "id": "uO1sLhf1h_OJ"
      },
      "execution_count": null,
      "outputs": []
    },
    {
      "cell_type": "code",
      "source": [
        "def alpha_beta_pruning_minmax(maxplyr, alpha, beta, depth, n_idx, vals):\n",
        "    if depth == 0:\n",
        "        vals = vals[n_idx]\n",
        "        return vals\n",
        "    if maxplyr:\n",
        "        max_eval = float('-inf')\n",
        "        for idx in range(2):\n",
        "            evaluate = alpha_beta_pruning_minmax(False, alpha, beta, depth - 1, n_idx * 2 + idx, vals)\n",
        "            max_eval = max(max_eval, evaluate)\n",
        "            alpha = max(alpha, evaluate)\n",
        "            if beta <= alpha:\n",
        "                break\n",
        "        return max_eval\n",
        "\n",
        "    else:\n",
        "        min_eval = float('inf')\n",
        "        for indx in range(2):\n",
        "            evaluate = alpha_beta_pruning_minmax(True, alpha, beta, depth - 1, n_idx * 2 + indx, vals)\n",
        "            min_eval = min(min_eval, evaluate)\n",
        "            beta = min(beta, evaluate)\n",
        "            if beta <= alpha:\n",
        "                break\n",
        "        return min_eval"
      ],
      "metadata": {
        "id": "E7JstwIVfzxR"
      },
      "execution_count": null,
      "outputs": []
    },
    {
      "cell_type": "code",
      "source": [
        "def det_winner(score, max_player, win_counts):\n",
        "    if score > 0:\n",
        "        winner = f'{max_player} (Max)'\n",
        "        win_counts[max_player] += 1\n",
        "    elif score < 0:\n",
        "        if max_player == \"Magnus Carlsen\":\n",
        "            winner = \"Fabiano Caruana (Min)\"\n",
        "            win_counts[\"Fabiano Caruana\"] += 1\n",
        "        else:\n",
        "            winner = \"Magnus Carlsen (Min)\"\n",
        "            win_counts[\"Magnus Carlsen\"] += 1\n",
        "    else:\n",
        "        winner = 'Draw'\n",
        "        win_counts['Draw'] += 1\n",
        "    return winner"
      ],
      "metadata": {
        "id": "805LWo0C8Zke"
      },
      "execution_count": null,
      "outputs": []
    },
    {
      "cell_type": "code",
      "source": [
        "def score_calc_simulator(maxplyr, maxV, minV):\n",
        "    val = []\n",
        "    for i in range(2**5):\n",
        "        util = utility_calc(maxV, minV)\n",
        "        val.append(util)\n",
        "    score = alpha_beta_pruning_minmax(maxplyr, -float('inf'), float('inf'), 5, 0, val)\n",
        "    return score"
      ],
      "metadata": {
        "id": "uNvwffe1ylYE"
      },
      "execution_count": null,
      "outputs": []
    },
    {
      "cell_type": "code",
      "source": [
        "def chess(starting_player, carlsen_strength, caruana_strength):\n",
        "    results = []\n",
        "    win_counts = {'Magnus Carlsen': 0, 'Fabiano Caruana': 0, 'Draw': 0}\n",
        "    for i in range(4):\n",
        "        if starting_player == 0:\n",
        "            maxV, minV = carlsen_strength, caruana_strength\n",
        "            max_player = 'Magnus Carlsen'\n",
        "            max_plyr = True\n",
        "        else:\n",
        "            maxV, minV = caruana_strength, carlsen_strength\n",
        "            max_player = 'Fabiano Caruana'\n",
        "            max_plyr = False\n",
        "        score = score_calc_simulator(max_plyr, maxV, minV)\n",
        "        winner = det_winner(score, max_player, win_counts)\n",
        "\n",
        "        results.append((winner, score))\n",
        "        print(f'Game {i + 1} Winner: {winner} (Utility value: {score:.2f})')\n",
        "\n",
        "        # Swap starting player for next game\n",
        "        starting_player = 1 - starting_player\n",
        "\n",
        "\n",
        "    print(\"\\n\")\n",
        "    print('Overall Results:')\n",
        "    print(f'Magnus Carlsen Wins: {win_counts[\"Magnus Carlsen\"]}')\n",
        "    print(f'Fabiano Caruana Wins: {win_counts[\"Fabiano Caruana\"]}')\n",
        "    print(f'Draws: {win_counts[\"Draw\"]}')\n",
        "\n",
        "    if win_counts[\"Magnus Carlsen\"] > win_counts[\"Fabiano Caruana\"]:\n",
        "        print('Overall Winner: Magnus Carlsen')\n",
        "    elif win_counts[\"Fabiano Caruana\"] > win_counts[\"Magnus Carlsen\"]:\n",
        "        print('Overall Winner: Fabiano Caruana')\n",
        "    else:\n",
        "        print('Overall Winner: Draw')\n",
        "\n",
        "# Input handling\n",
        "starting_player = int(input('Enter starting player for game 1 (0 for Carlsen, 1 for Caruana): '))\n",
        "carlsen_strength = float(input('Enter base strength for Carlsen: '))\n",
        "caruana_strength = float(input('Enter base strength for Caruana: '))\n",
        "\n",
        "# Start the games\n",
        "chess(starting_player, carlsen_strength, caruana_strength)\n"
      ],
      "metadata": {
        "colab": {
          "base_uri": "https://localhost:8080/"
        },
        "id": "rj2Njl2CjBgE",
        "outputId": "91aa1224-18f5-48ad-a933-b15772e657fe"
      },
      "execution_count": null,
      "outputs": [
        {
          "output_type": "stream",
          "name": "stdout",
          "text": [
            "Enter starting player for game 1 (0 for Carlsen, 1 for Caruana): 0\n",
            "Enter base strength for Carlsen: 9\n",
            "Enter base strength for Caruana: 8\n",
            "Game 1 Winner: Fabiano Caruana (Min) (Utility value: -0.15)\n",
            "Game 2 Winner: Magnus Carlsen (Min) (Utility value: -0.55)\n",
            "Game 3 Winner: Magnus Carlsen (Max) (Utility value: 0.35)\n",
            "Game 4 Winner: Magnus Carlsen (Min) (Utility value: -0.15)\n",
            "\n",
            "\n",
            "Overall Results:\n",
            "Magnus Carlsen Wins: 3\n",
            "Fabiano Caruana Wins: 1\n",
            "Draws: 0\n",
            "Overall Winner: Magnus Carlsen\n"
          ]
        }
      ]
    },
    {
      "cell_type": "markdown",
      "source": [
        "# **Part 2**"
      ],
      "metadata": {
        "id": "JU3OwAUV0NoJ"
      }
    },
    {
      "cell_type": "code",
      "source": [
        "def maxim(maxplyr, alpha, beta, depth, n_idx, vals):\n",
        "    if depth == 0:\n",
        "        vals = vals[n_idx]\n",
        "        return vals\n",
        "    if maxplyr:\n",
        "        max_eval = float('-inf')\n",
        "        for idx in range(2):\n",
        "            evaluate = maxim(True, alpha, beta, depth - 1, n_idx * 2 + idx, vals)\n",
        "            max_eval = max(max_eval, evaluate)\n",
        "            alpha = max(alpha, evaluate)\n",
        "        return max_eval"
      ],
      "metadata": {
        "id": "Kscb6_6qurUF"
      },
      "execution_count": null,
      "outputs": []
    },
    {
      "cell_type": "code",
      "source": [
        "def mind_control(strt_plr, cost, light_strn, l_strn):\n",
        "    leaf_vals = []\n",
        "    if strt_plr == 0:\n",
        "        maxV, minV = (light_strn, l_strn)\n",
        "    else:\n",
        "        maxV, minV = (l_strn, light_strn)\n",
        "    for i in range(2**5):\n",
        "        util = utility_calc(maxV, minV)\n",
        "        leaf_vals.append(util)\n",
        "    normal_score = alpha_beta_pruning_minmax(True, -math.inf, math.inf, 5, 0, leaf_vals)\n",
        "    mind_control_score = maxim(True, -math.inf, math.inf, 5, 0, leaf_vals)\n",
        "    mind_control_final = mind_control_score - cost\n",
        "\n",
        "    if strt_plr == 0:\n",
        "        player_name = \"Light\"\n",
        "    else:\n",
        "        player_name = \"L\"\n",
        "    print(\"\\n\")\n",
        "    print(f'Minimax value without Mind Control: {normal_score:.2f}')\n",
        "    print(f'Minimax value with Mind Control: {mind_control_score:.2f}')\n",
        "    print(f'Minimax value with Mind Control after incurring the cost: {mind_control_final:.2f}')\n",
        "\n",
        "    if normal_score > 0 and mind_control_final > 0:\n",
        "        print(f\"{player_name} should NOT use Mind Control as the position is already winning.\")\n",
        "    elif mind_control_final > normal_score and mind_control_final > 0:\n",
        "        print(f\"{player_name} should use Mind Control.\")\n",
        "    elif mind_control_final < 0 and normal_score < 0:\n",
        "        print(f\"{player_name} should NOT use Mind Control as the position is losing either way.\")\n",
        "    elif mind_control_final<0 and normal_score>0:\n",
        "        print(f\"{player_name} should NOT use Mind Control as it backfires.\")\n",
        "\n",
        "\n",
        "# Input values for problem 2\n",
        "strt_plyr = int(input(\"Enter who goes first (0 for Light, 1 for L): \"))\n",
        "mind_control_cost = float(input(\"Enter the cost of using Mind Control: \"))\n",
        "light_strn = float(input(\"Enter base strength for Light: \"))\n",
        "l_strn = float(input(\"Enter base strength for L: \"))\n",
        "\n",
        "mind_control(strt_plyr, mind_control_cost, light_strn, l_strn)\n"
      ],
      "metadata": {
        "colab": {
          "base_uri": "https://localhost:8080/"
        },
        "id": "pr9zOKRdzRLx",
        "outputId": "048d1252-9eb9-448d-9235-8295886ced60"
      },
      "execution_count": null,
      "outputs": [
        {
          "output_type": "stream",
          "name": "stdout",
          "text": [
            "Enter who goes first (0 for Light, 1 for L): 0\n",
            "Enter the cost of using Mind Control: 0.25\n",
            "Enter base strength for Light: 10\n",
            "Enter base strength for L: 8\n",
            "\n",
            "\n",
            "Minimax value without Mind Control: 0.69\n",
            "Minimax value with Mind Control: 0.99\n",
            "Minimax value with Mind Control after incurring the cost: 0.74\n",
            "Light should NOT use Mind Control as the position is already winning.\n"
          ]
        }
      ]
    },
    {
      "cell_type": "code",
      "source": [
        "# import random\n",
        "# import math\n",
        "\n",
        "# # Strength function\n",
        "# def strength(x):\n",
        "#     return math.log2(x + 1) + x / 10\n",
        "\n",
        "# # Utility function\n",
        "# def utility(maxV, minV):\n",
        "#     i = random.choice([0, 1])\n",
        "#     rand_component = (-1) ** i * random.randint(1, 10) / 10\n",
        "#     return strength(maxV) - strength(minV) + rand_component\n",
        "\n",
        "# # Minimax with Alpha-Beta Pruning\n",
        "# def alphabeta(depth, max_depth, alpha, beta, is_maximizing, maxV, minV):\n",
        "#     if depth == max_depth:\n",
        "#         return utility(maxV, minV)\n",
        "\n",
        "#     if is_maximizing:\n",
        "#         value = float('-inf')\n",
        "#         for _ in range(2):  # Two possible moves\n",
        "#             value = max(value, alphabeta(depth + 1, max_depth, alpha, beta, False, maxV, minV))\n",
        "#             alpha = max(alpha, value)\n",
        "#             if beta <= alpha:\n",
        "#                 break\n",
        "#         return value\n",
        "#     else:\n",
        "#         value = float('inf')\n",
        "#         for _ in range(2):\n",
        "#             value = min(value, alphabeta(depth + 1, max_depth, alpha, beta, True, maxV, minV))\n",
        "#             beta = min(beta, value)\n",
        "#             if beta <= alpha:\n",
        "#                 break\n",
        "#         return value\n",
        "\n",
        "# # Simulate Problem 1\n",
        "# def simulate_games(starting_player, carlsen_strength, caruana_strength):\n",
        "#     carlsen_wins = 0\n",
        "#     caruana_wins = 0\n",
        "#     draws = 0\n",
        "\n",
        "#     for game in range(4):\n",
        "#         is_carlsen_max = (game % 2 == 0 and starting_player == 0) or (game % 2 == 1 and starting_player == 1)\n",
        "#         maxV = carlsen_strength if is_carlsen_max else caruana_strength\n",
        "#         minV = caruana_strength if is_carlsen_max else carlsen_strength\n",
        "\n",
        "#         value = alphabeta(0, 5, float('-inf'), float('inf'), True, maxV, minV)\n",
        "#         value = round(value, 2)\n",
        "\n",
        "#         winner = \"\"\n",
        "#         if value > 0:\n",
        "#             winner = \"Magnus Carlsen (Max)\" if is_carlsen_max else \"Fabiano Caruana (Max)\"\n",
        "#             if \"Carlsen\" in winner:\n",
        "#                 carlsen_wins += 1\n",
        "#             else:\n",
        "#                 caruana_wins += 1\n",
        "#         elif value < 0:\n",
        "#             winner = \"Fabiano Caruana (Min)\" if is_carlsen_max else \"Magnus Carlsen (Min)\"\n",
        "#             if \"Carlsen\" in winner:\n",
        "#                 carlsen_wins += 1\n",
        "#             else:\n",
        "#                 caruana_wins += 1\n",
        "#         else:\n",
        "#             winner = \"Draw\"\n",
        "#             draws += 1\n",
        "\n",
        "#         print(f\"Game {game + 1} Winner: {winner} (Utility value: {value})\")\n",
        "\n",
        "#     print(\"\\nOverall Results:\")\n",
        "#     print(f\"Magnus Carlsen Wins: {carlsen_wins}\")\n",
        "#     print(f\"Fabiano Caruana Wins: {caruana_wins}\")\n",
        "#     print(f\"Draws: {draws}\")\n",
        "#     if carlsen_wins > caruana_wins:\n",
        "#         print(\"Overall Winner: Magnus Carlsen\")\n",
        "#     elif caruana_wins > carlsen_wins:\n",
        "#         print(\"Overall Winner: Fabiano Caruana\")\n",
        "#     else:\n",
        "#         print(\"Overall Winner: Draw\")\n",
        "\n",
        "\n",
        "# simulate_games(0, 9, 8)\n",
        "\n"
      ],
      "metadata": {
        "colab": {
          "base_uri": "https://localhost:8080/"
        },
        "id": "Z0kXeKuFArLF",
        "outputId": "54042b53-9c33-44f5-b09b-2fd3ca14c6df"
      },
      "execution_count": null,
      "outputs": [
        {
          "output_type": "stream",
          "name": "stdout",
          "text": [
            "Game 1 Winner: Magnus Carlsen (Max) (Utility value: 0.55)\n",
            "Game 2 Winner: Magnus Carlsen (Min) (Utility value: -0.05)\n",
            "Game 3 Winner: Magnus Carlsen (Max) (Utility value: 0.75)\n",
            "Game 4 Winner: Fabiano Caruana (Max) (Utility value: 0.15)\n",
            "\n",
            "Overall Results:\n",
            "Magnus Carlsen Wins: 3\n",
            "Fabiano Caruana Wins: 1\n",
            "Draws: 0\n",
            "Overall Winner: Magnus Carlsen\n"
          ]
        }
      ]
    },
    {
      "cell_type": "code",
      "source": [],
      "metadata": {
        "id": "3O-pqZy8CwjK"
      },
      "execution_count": null,
      "outputs": []
    }
  ]
}