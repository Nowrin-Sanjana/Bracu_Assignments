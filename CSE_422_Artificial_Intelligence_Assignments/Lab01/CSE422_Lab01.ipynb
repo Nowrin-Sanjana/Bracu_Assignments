{
  "nbformat": 4,
  "nbformat_minor": 0,
  "metadata": {
    "colab": {
      "provenance": []
    },
    "kernelspec": {
      "name": "python3",
      "display_name": "Python 3"
    },
    "language_info": {
      "name": "python"
    }
  },
  "cells": [
    {
      "cell_type": "code",
      "execution_count": null,
      "metadata": {
        "colab": {
          "base_uri": "https://localhost:8080/"
        },
        "id": "Wq3l5UHlfAh6",
        "outputId": "663660da-fb59-4b84-bf6e-b716f9f74237"
      },
      "outputs": [
        {
          "output_type": "stream",
          "name": "stdout",
          "text": [
            "Path: Arad -> Sibiu -> RimnicuVilcea -> Pitesti -> Bucharest\n",
            "Total distance: 418 km\n"
          ]
        }
      ],
      "source": [
        "\n",
        "from queue import PriorityQueue\n",
        "\n",
        "def A_Star(s, d, h, graph):\n",
        "    op_l = PriorityQueue()\n",
        "    cl_l = []\n",
        "    f = h[s]\n",
        "    g = 0\n",
        "    cur_node = s\n",
        "    path = []\n",
        "    op_l.put((f, g, cur_node, path))\n",
        "    while not op_l.empty():\n",
        "        if s not in graph or d not in graph:\n",
        "            return None, -1\n",
        "        f, g_cost, cur_node, path = op_l.get()\n",
        "        if cur_node not in cl_l:\n",
        "            path = path + [cur_node]\n",
        "        else:\n",
        "            continue\n",
        "        if cur_node == d:\n",
        "            return g_cost, path\n",
        "        cl_l.append(cur_node)\n",
        "        if cur_node in graph:\n",
        "            for nbr in graph[cur_node]:\n",
        "                cost = graph[cur_node][nbr]\n",
        "                if nbr not in cl_l:\n",
        "                    new_g = g_cost + cost\n",
        "                    if nbr in h:\n",
        "                        new_f = new_g + h[nbr]\n",
        "                    else:\n",
        "                        new_f = -1\n",
        "                    op_l.put((new_f, new_g, nbr, path))\n",
        "\n",
        "    return None, -1\n",
        "\n",
        "\n",
        "\n",
        "start = 'Arad'\n",
        "destination = 'Bucharest'\n",
        "inp = open(\"/content/drive/MyDrive/Semester/9th Semester/CSE422/CSE422 Lab/Lab01/Lab 01 A* Search/Input file.txt\", \"r\")\n",
        "var = inp.read().split(\"\\n\")\n",
        "h = {}\n",
        "g = {}\n",
        "for item in var:\n",
        "    t = {}\n",
        "    word = item.split(\" \")\n",
        "    h[word[0]] = int(word[1])\n",
        "    for i in range(2, len(word), 2):\n",
        "        if i + 1 < len(word):\n",
        "            t[word[i]] = int(word[i+1])\n",
        "    g[word[0]] = t\n",
        "\n",
        "dstnc, path = A_Star(start, destination, h, g)\n",
        "\n",
        "if path is not None and type(path)==list:\n",
        "    print(f\"Path: {' -> '.join(path)}\")\n",
        "    print(f\"Total distance: {dstnc} km\")\n",
        "else:\n",
        "    print(\"NO PATH FOUND\")\n",
        "\n",
        "\n",
        "\n"
      ]
    },
    {
      "cell_type": "code",
      "source": [
        "from queue import PriorityQueue\n",
        "\n",
        "def A_Star(s, d, h, grph):\n",
        "    if s not in grph or d not in grph:\n",
        "        print(\"NO PATH FOUND\")\n",
        "        return None, -1\n",
        "    op_l = PriorityQueue()\n",
        "    cl_l = []\n",
        "    f = h[s]\n",
        "    gn = 0\n",
        "    cur_node = s\n",
        "    path = []\n",
        "    op_l.put((f, gn, cur_node, path))\n",
        "    while not op_l.empty():\n",
        "        f, gn_cost, cur_node, path = op_l.get()\n",
        "        if cur_node not in cl_l:\n",
        "            path = path + [cur_node]\n",
        "        else:\n",
        "            continue\n",
        "        if cur_node == d:\n",
        "            if path is not None and type(path) == list:\n",
        "                print(f\"Path: {' -> '.join(path)}\")\n",
        "                print(f\"Total distance: {gn_cost} km\")\n",
        "                return gn_cost, path\n",
        "            else:\n",
        "                print(\"NO PATH FOUND\")\n",
        "            return path, gn\n",
        "        cl_l.append(cur_node)\n",
        "\n",
        "        if cur_node in grph:\n",
        "            for nbr in grph[cur_node]:\n",
        "                cost = grph[cur_node][nbr]\n",
        "                if nbr not in cl_l:\n",
        "                    nw_g = gn_cost + cost\n",
        "                    if nbr in h:\n",
        "                        nw_f = nw_g + h[nbr]\n",
        "                    else:\n",
        "                        nw_f = -1\n",
        "                    op_l.put((nw_f, nw_g, nbr, path))\n",
        "\n",
        "\n",
        "start = 'Arad'\n",
        "destination = 'Bucharest'\n",
        "inp = open(\"/content/drive/MyDrive/Semester/9th Semester/CSE422/CSE422 Lab/Lab01/Lab 01 A* Search/Input file.txt\", \"r\")\n",
        "var = inp.read().split(\"\\n\")\n",
        "h = {}\n",
        "gn = {}\n",
        "for item in var:\n",
        "    t = {}\n",
        "    word = item.split(\" \")\n",
        "    h[word[0]] = int(word[1])\n",
        "    for i in range(2, len(word), 2):\n",
        "        if i + 1 < len(word):\n",
        "            t[word[i]] = int(word[i+1])\n",
        "    gn[word[0]] = t\n",
        "\n",
        "dstnc, path = A_Star(start, destination, h, gn)\n",
        "\n",
        "\n"
      ],
      "metadata": {
        "id": "D6Lbqg2zgqF9",
        "colab": {
          "base_uri": "https://localhost:8080/"
        },
        "outputId": "b0cc98a1-e450-4b1d-a489-b78d49a3eb96"
      },
      "execution_count": null,
      "outputs": [
        {
          "output_type": "stream",
          "name": "stdout",
          "text": [
            "Path: Arad -> Sibiu -> RimnicuVilcea -> Pitesti -> Bucharest\n",
            "Total distance: 418 km\n"
          ]
        }
      ]
    },
    {
      "cell_type": "code",
      "source": [],
      "metadata": {
        "id": "Ot-RAbl3lgmq"
      },
      "execution_count": null,
      "outputs": []
    }
  ]
}