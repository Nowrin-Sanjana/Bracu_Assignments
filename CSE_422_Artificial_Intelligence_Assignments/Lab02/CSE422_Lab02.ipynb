{
  "nbformat": 4,
  "nbformat_minor": 0,
  "metadata": {
    "colab": {
      "provenance": []
    },
    "kernelspec": {
      "name": "python3",
      "display_name": "Python 3"
    },
    "language_info": {
      "name": "python"
    }
  },
  "cells": [
    {
      "cell_type": "code",
      "source": [
        "import random\n",
        "def population_generator():\n",
        "    chrm = []\n",
        "    for i in range(4):\n",
        "        chromosome_str = \"\"\n",
        "        stop_loss_str = \"\"\n",
        "        take_profit_str = \"\"\n",
        "        trade_size_str = \"\"\n",
        "        stop_loss = random.randint(1, 99)\n",
        "        if stop_loss < 10:\n",
        "            stop_loss_str = \"0\" + str(stop_loss)\n",
        "        else:\n",
        "            stop_loss_str = str(stop_loss)\n",
        "        take_profit = random.randint(1, 99)\n",
        "        if take_profit < 10:\n",
        "            take_profit_str = \"0\" + str(take_profit)\n",
        "        else:\n",
        "            take_profit_str = str(take_profit)\n",
        "        trade_size = random.randint(1, 99)\n",
        "        if trade_size < 10:\n",
        "            trade_size_str = \"0\" + str(trade_size)\n",
        "        else:\n",
        "            trade_size_str = str(trade_size)\n",
        "        chromosome_str += stop_loss_str + take_profit_str + trade_size_str\n",
        "        chrm.append(chromosome_str)\n",
        "    return chrm\n",
        "# chromosome = population_generator()\n",
        "# print(chromosome)"
      ],
      "metadata": {
        "id": "TvBIgwQkxIHE"
      },
      "execution_count": null,
      "outputs": []
    },
    {
      "cell_type": "code",
      "source": [
        "def fitness(int_cap, hst_prcs, chrmsms):\n",
        "    profit = []\n",
        "    for str_val in chrmsms:\n",
        "        cur_cap = int_cap\n",
        "        stop_loss = int(str_val[0:2])\n",
        "        take_profit = int(str_val[2:4])\n",
        "        trade_size = int(str_val[4:6])\n",
        "        for num in hst_prcs:\n",
        "            if num < 0:\n",
        "                if abs(num) > stop_loss:\n",
        "                    num = -stop_loss\n",
        "            elif num > 0:\n",
        "                if num > take_profit:\n",
        "                    num = take_profit\n",
        "            cur_trade_size = (cur_cap*trade_size)/100\n",
        "            prof_loss = (cur_trade_size*num)/100\n",
        "            cur_cap = cur_cap + prof_loss\n",
        "        profit.append(cur_cap - int_cap)\n",
        "    return profit\n",
        "\n",
        "# initial_capital = 1000\n",
        "# historical_prices = [-1.2, 3.4, -0.8, 2.1, -2.5, 1.7, -0.3, 5.8, -1.1, 3.5]\n",
        "# generations = 10\n",
        "# f = fitness(initial_capital, historical_prices, chromosome)\n",
        "# print(f)"
      ],
      "metadata": {
        "id": "D1jComFhcPKg"
      },
      "execution_count": null,
      "outputs": []
    },
    {
      "cell_type": "code",
      "source": [
        "def population_selection(chromosome):\n",
        "    selected1 = random.sample(chromosome, 2)\n",
        "    selected2 = random.sample(chromosome, 2)\n",
        "    if (selected1[0] == selected2[0] and selected1[1] == selected2[1]) or (selected1[0] == selected2[1] and selected1[1] == selected2[0]):\n",
        "        selected2 = random.sample(chromosome, 2)\n",
        "    return selected1, selected2\n",
        "# # parent1, parent2 = population_selection(chromosome)\n",
        "# # print(parent1, parent2)"
      ],
      "metadata": {
        "id": "LCN_B04whGai"
      },
      "execution_count": null,
      "outputs": []
    },
    {
      "cell_type": "code",
      "source": [
        "def crossover(p1, p2):\n",
        "    p_point = random.randint(0, (len(p1[1])-1))\n",
        "    # print(p_point)\n",
        "    c1 = p1[0][0:p_point] + p1[1][p_point:]\n",
        "    c2 = p1[1][0:p_point] + p1[0][p_point:]\n",
        "    c3 = p2[0][0:p_point] + p2[1][p_point:]\n",
        "    c4 = p2[1][0:p_point] + p2[0][p_point:]\n",
        "    return list(set([c1, c2, c3, c4]))\n",
        "# offsprings = crossover(parent1, parent2)\n",
        "# print(offsprings)\n",
        "# offspring_fitness = fitness(initial_capital, historical_prices, offsprings)\n",
        "# print(offspring_fitness)"
      ],
      "metadata": {
        "id": "BMvm-6UlqQvd"
      },
      "execution_count": null,
      "outputs": []
    },
    {
      "cell_type": "code",
      "source": [
        "def mutation(ofspr, c_m):\n",
        "    mut_rate = 0.05\n",
        "    muted = []\n",
        "    rand = random.uniform(0.00, 1.00)\n",
        "    # print(rand)\n",
        "    if rand <= mut_rate:\n",
        "        mut_point = random.randint(0, (len(ofspr)-1))\n",
        "        # print(mut_point)\n",
        "        for val in ofspr:\n",
        "            m_val = str(random.randint(0, 9))\n",
        "            mut_chrm = val[:mut_point] + m_val + val[mut_point + 1:]\n",
        "            muted.append(mut_chrm)\n",
        "        c_m = c_m + muted\n",
        "        return c_m\n",
        "    else:\n",
        "        return c_m\n",
        "# m = mutation(offsprings)\n",
        "# print(m)"
      ],
      "metadata": {
        "id": "KFORpbQUGTte"
      },
      "execution_count": null,
      "outputs": []
    },
    {
      "cell_type": "code",
      "source": [
        "def decode_chromosome(chromosome_str):\n",
        "    final_chrm = {'stop_loss': chromosome_str[:2], 'take_profit': chromosome_str[2:4],'trade_size': chromosome_str[4:6]}\n",
        "    return final_chrm\n",
        "# decoded_chromosome = decode_chromosome(chromosome[0])\n",
        "# print(decoded_chromosome)"
      ],
      "metadata": {
        "id": "oesr82FAErg6"
      },
      "execution_count": null,
      "outputs": []
    },
    {
      "cell_type": "code",
      "source": [
        "def fit_decoder(chromosomes, fitness_scores):\n",
        "    # Step 1: Create a dictionary (fit_dict)\n",
        "    fit_dict = {}\n",
        "    for i in range(len(chromosomes)):\n",
        "        fit_dict[chromosomes[i]] = fitness_scores[i]\n",
        "    sorted_fit = sorted(fit_dict.items(), key=lambda item: item[1], reverse=True)\n",
        "\n",
        "    sorted_fit = sorted_fit[:4]\n",
        "    best_fits_dict = dict(sorted_fit)\n",
        "    best_fit_chrsm = list(best_fits_dict.keys())\n",
        "    return best_fits_dict, best_fit_chrsm\n"
      ],
      "metadata": {
        "id": "assS_Cw8mHjZ"
      },
      "execution_count": null,
      "outputs": []
    },
    {
      "cell_type": "code",
      "source": [
        "def generate_population(initial_capital, historical_prices, generations):\n",
        "    the_final_best_fits = {}\n",
        "    intl_population = population_generator()\n",
        "    for gene in range(generations):\n",
        "        c_m = []\n",
        "        parent1, parent2 = population_selection(intl_population)\n",
        "\n",
        "        offspring = crossover(parent1, parent2)\n",
        "        c_m = offspring\n",
        "\n",
        "        muteted_cr_mu = mutation(offspring, c_m)\n",
        "        fit = fitness(initial_capital, historical_prices, muteted_cr_mu)\n",
        "\n",
        "        best_fits_dict, best_fit_chrsm = fit_decoder(muteted_cr_mu, fit)\n",
        "\n",
        "        the_final_best_fits.update(best_fits_dict)\n",
        "        intl_population = best_fit_chrsm\n",
        "    fitest_chrsm = decode_chromosome(max(the_final_best_fits, key=the_final_best_fits.get))\n",
        "    final_prof = max(the_final_best_fits.values())\n",
        "    print(the_final_best_fits)\n",
        "    return fitest_chrsm, final_prof\n",
        "\n",
        "initial_capital = 1000\n",
        "historical_prices = [-1.2, 3.4, -0.8, 2.1, -2.5, 1.7, -0.3, 5.8, -1.1, 3.5]\n",
        "generations = 10\n",
        "\n",
        "best_chromosome, final_profit = generate_population(initial_capital, historical_prices, generations)\n",
        "print(\"best_strategy\", best_chromosome)\n",
        "print(\"Final Profit:\", final_profit)\n"
      ],
      "metadata": {
        "colab": {
          "base_uri": "https://localhost:8080/"
        },
        "id": "tPqWa-2Uk9hZ",
        "outputId": "99c3098d-d843-4549-b687-230d4650005f"
      },
      "execution_count": null,
      "outputs": [
        {
          "output_type": "stream",
          "name": "stdout",
          "text": [
            "{'304193': 100.13593650971166, '763780': 85.96047754946949, '513580': 85.96047754946949, '304131': 33.039341032341326, '513593': 100.13593650971166, '304180': 85.96047754946949, '303593': 100.13593650971166, '514193': 100.13593650971166, '303531': 33.039341032341326, '304181': 87.04895287751219, '303530': 31.96805326585718, '304130': 31.96805326585718}\n",
            "best_strategy {'stop_loss': '30', 'take_profit': '41', 'trade_size': '93'}\n",
            "Final Profit: 100.13593650971166\n"
          ]
        }
      ]
    },
    {
      "cell_type": "markdown",
      "source": [
        "# **Part 2**"
      ],
      "metadata": {
        "id": "3UYKOgiRbZJJ"
      }
    },
    {
      "cell_type": "code",
      "source": [
        "prnt1, prnt2 = random.sample(population_generator(), 2)\n",
        "print(prnt1, prnt2)\n",
        "def dual_crossover(prnt1, prnt2):\n",
        "    pnt_1 = random.randint(0, len(prnt1) - 2)\n",
        "    pnt_2 = random.randint(pnt_1 + 1, len(prnt1) - 1)\n",
        "    print(pnt_1, pnt_2)\n",
        "    ch1 = prnt1[:pnt_1+1] + prnt2[pnt_1+1:pnt_2+1] + prnt1[pnt_2+1:]\n",
        "    ch2 = prnt2[:pnt_1+1] + prnt1[pnt_1+1:pnt_2+1] + prnt2[pnt_2+1:]\n",
        "    print(ch1, ch2)\n",
        "dual_crossover(prnt1, prnt2)"
      ],
      "metadata": {
        "colab": {
          "base_uri": "https://localhost:8080/"
        },
        "id": "q8meCWqedJ1c",
        "outputId": "cde52ab3-3eb7-47ac-f05e-be7d4d71778f"
      },
      "execution_count": null,
      "outputs": [
        {
          "output_type": "stream",
          "name": "stdout",
          "text": [
            "068883 854084\n",
            "0 4\n",
            "054083 868884\n"
          ]
        }
      ]
    },
    {
      "cell_type": "code",
      "source": [
        "prnt1, prnt2 = [000111000, 111000111]\n",
        "pnt_1 =\n",
        "pnt_2 = random.randint(pnt_1 + 1, len(prnt1) - 1)\n",
        "print(pnt_1, pnt_2)\n",
        "ch1 = prnt1[:pnt_1+1] + prnt2[pnt_1+1:pnt_2+1] + prnt1[pnt_2+1:]\n",
        "ch2 = prnt2[:pnt_1+1] + prnt1[pnt_1+1:pnt_2+1] + prnt2[pnt_2+1:]\n",
        "print(ch1, ch2)"
      ],
      "metadata": {
        "id": "lRVyTNJGdGoI"
      },
      "execution_count": null,
      "outputs": []
    }
  ]
}